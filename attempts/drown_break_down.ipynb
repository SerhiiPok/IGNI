{
 "cells": [
  {
   "cell_type": "code",
   "execution_count": 2,
   "id": "9458accf-17a7-43b7-9d46-86ac61636edd",
   "metadata": {},
   "outputs": [
    {
     "ename": "ModuleNotFoundError",
     "evalue": "No module named 'mdb'",
     "output_type": "error",
     "traceback": [
      "\u001b[1;31m---------------------------------------------------------------------------\u001b[0m",
      "\u001b[1;31mModuleNotFoundError\u001b[0m                       Traceback (most recent call last)",
      "\u001b[1;32m~\\AppData\\Local\\Temp\\ipykernel_16928\\1660288742.py\u001b[0m in \u001b[0;36m<module>\u001b[1;34m\u001b[0m\n\u001b[0;32m      7\u001b[0m \u001b[0msys\u001b[0m\u001b[1;33m.\u001b[0m\u001b[0mpath\u001b[0m\u001b[1;33m.\u001b[0m\u001b[0mappend\u001b[0m\u001b[1;33m(\u001b[0m\u001b[0mdirname\u001b[0m\u001b[1;33m(\u001b[0m\u001b[0mos\u001b[0m\u001b[1;33m.\u001b[0m\u001b[0mgetcwd\u001b[0m\u001b[1;33m(\u001b[0m\u001b[1;33m)\u001b[0m\u001b[1;33m)\u001b[0m\u001b[1;33m)\u001b[0m\u001b[1;33m\u001b[0m\u001b[1;33m\u001b[0m\u001b[0m\n\u001b[0;32m      8\u001b[0m \u001b[0msys\u001b[0m\u001b[1;33m.\u001b[0m\u001b[0mpath\u001b[0m\u001b[1;33m.\u001b[0m\u001b[0mappend\u001b[0m\u001b[1;33m(\u001b[0m\u001b[0mos\u001b[0m\u001b[1;33m.\u001b[0m\u001b[0mpath\u001b[0m\u001b[1;33m.\u001b[0m\u001b[0mjoin\u001b[0m\u001b[1;33m(\u001b[0m\u001b[0mdirname\u001b[0m\u001b[1;33m(\u001b[0m\u001b[0mdirname\u001b[0m\u001b[1;33m(\u001b[0m\u001b[0mos\u001b[0m\u001b[1;33m.\u001b[0m\u001b[0mgetcwd\u001b[0m\u001b[1;33m(\u001b[0m\u001b[1;33m)\u001b[0m\u001b[1;33m)\u001b[0m\u001b[1;33m)\u001b[0m\u001b[1;33m,\u001b[0m \u001b[1;34m'py_3d_render'\u001b[0m\u001b[1;33m)\u001b[0m\u001b[1;33m)\u001b[0m\u001b[1;33m\u001b[0m\u001b[1;33m\u001b[0m\u001b[0m\n\u001b[1;32m----> 9\u001b[1;33m \u001b[1;32mimport\u001b[0m \u001b[0manalysis_tools\u001b[0m\u001b[1;33m\u001b[0m\u001b[1;33m\u001b[0m\u001b[0m\n\u001b[0m\u001b[0;32m     10\u001b[0m \u001b[1;32mfrom\u001b[0m \u001b[0manalysis_tools\u001b[0m \u001b[1;32mimport\u001b[0m \u001b[1;33m*\u001b[0m\u001b[1;33m\u001b[0m\u001b[1;33m\u001b[0m\u001b[0m\n\u001b[0;32m     11\u001b[0m \u001b[1;32mimport\u001b[0m \u001b[0mrenderer\u001b[0m\u001b[1;33m\u001b[0m\u001b[1;33m\u001b[0m\u001b[0m\n",
      "\u001b[1;32mE:\\projects\\the_witcher\\content_pipeline\\attempts\\analysis_tools.py\u001b[0m in \u001b[0;36m<module>\u001b[1;34m\u001b[0m\n\u001b[0;32m     17\u001b[0m \u001b[1;31m# import mdb binding --\u001b[0m\u001b[1;33m\u001b[0m\u001b[1;33m\u001b[0m\u001b[1;33m\u001b[0m\u001b[0m\n\u001b[0;32m     18\u001b[0m \u001b[0msys\u001b[0m\u001b[1;33m.\u001b[0m\u001b[0mpath\u001b[0m\u001b[1;33m.\u001b[0m\u001b[0mappend\u001b[0m\u001b[1;33m(\u001b[0m\u001b[0mresolve_relative_path\u001b[0m\u001b[1;33m(\u001b[0m\u001b[1;34m'bindings/python'\u001b[0m\u001b[1;33m)\u001b[0m\u001b[1;33m)\u001b[0m\u001b[1;33m\u001b[0m\u001b[1;33m\u001b[0m\u001b[0m\n\u001b[1;32m---> 19\u001b[1;33m \u001b[1;32mfrom\u001b[0m \u001b[0mmdb\u001b[0m \u001b[1;32mimport\u001b[0m \u001b[0mMdb\u001b[0m\u001b[1;33m\u001b[0m\u001b[1;33m\u001b[0m\u001b[0m\n\u001b[0m\u001b[0;32m     20\u001b[0m \u001b[1;33m\u001b[0m\u001b[0m\n\u001b[0;32m     21\u001b[0m \u001b[1;31m# --\u001b[0m\u001b[1;33m\u001b[0m\u001b[1;33m\u001b[0m\u001b[1;33m\u001b[0m\u001b[0m\n",
      "\u001b[1;31mModuleNotFoundError\u001b[0m: No module named 'mdb'"
     ]
    }
   ],
   "source": [
    "# get the library\n",
    "import os\n",
    "import sys\n",
    "import importlib\n",
    "from os.path import dirname\n",
    "dirname(os.getcwd())\n",
    "sys.path.append(dirname(os.getcwd()))\n",
    "sys.path.append(os.path.join(dirname(dirname(os.getcwd())), 'py_3d_render'))\n",
    "import analysis_tools\n",
    "from analysis_tools import *\n",
    "import renderer\n",
    "importlib.reload(analysis_tools)\n",
    "importlib.reload(renderer)"
   ]
  },
  {
   "cell_type": "code",
   "execution_count": 14,
   "id": "99c38545-2252-4a77-aa83-fc3eb1a2e641",
   "metadata": {},
   "outputs": [
    {
     "data": {
      "text/plain": [
       "['cm_drown1.mdb', 'cr_drown1.mdb', 'ob_deaddrown01.mdb', 'ob_deaddrown02.mdb']"
      ]
     },
     "execution_count": 14,
     "metadata": {},
     "output_type": "execute_result"
    }
   ],
   "source": [
    "drown = [m for m in meshes() if 'drown' in m]\n",
    "drown"
   ]
  },
  {
   "cell_type": "code",
   "execution_count": 16,
   "id": "cbb9a597-73b0-473f-bb3a-e41bb525bdd5",
   "metadata": {},
   "outputs": [],
   "source": [
    "cm_drown1 = mdb('cm_drown1')\n",
    "ob_deaddrown01 = mdb('ob_deaddrown01')\n",
    "ob_deaddrown02 = mdb('ob_deaddrown02')"
   ]
  },
  {
   "cell_type": "code",
   "execution_count": 17,
   "id": "d32b1a11-d387-44ca-acd1-5415f253c55b",
   "metadata": {
    "tags": []
   },
   "outputs": [
    {
     "name": "stdout",
     "output_type": "stream",
     "text": [
      "('cm_drown1', 'node')\n",
      " -- ('rootdummy', 'node')\n",
      " --  -- ('pelvis_g', 'node')\n",
      " --  --  -- ('torso_g', 'node')\n",
      " --  --  --  -- ('torso2_g', 'node')\n",
      " --  --  --  --  -- ('neck_g', 'node')\n",
      " --  --  --  --  --  -- ('head_g', 'node')\n",
      " --  --  --  --  --  --  -- ('head', 'node')\n",
      " --  --  --  --  --  --  -- ('FX05', 'node')\n",
      " --  --  --  --  --  --  -- ('Dummy02', 'node')\n",
      " --  --  --  --  --  --  --  -- ('wlos', 'dangly_node')\n",
      " --  --  --  --  --  --  -- ('FX_okoL', 'node')\n",
      " --  --  --  --  --  --  -- ('mouth_g', 'node')\n",
      " --  --  --  --  --  --  --  -- ('rootdummy_ponytail1nub', 'node')\n",
      " --  --  --  --  --  --  --  -- ('FX_slina00', 'node')\n",
      " --  --  --  --  --  --  --  -- ('FX_slina02', 'node')\n",
      " --  --  --  --  --  --  --  -- ('FX_slina01', 'node')\n",
      " --  --  --  --  --  --  -- ('impactG', 'node')\n",
      " --  --  --  --  --  --  -- ('FX_okoR', 'node')\n",
      " --  --  --  --  --  --  -- ('shadowbone_head', 'trimesh')\n",
      " --  --  --  --  --  -- ('lshoulder_g', 'node')\n",
      " --  --  --  --  --  --  -- ('lbicep_g', 'node')\n",
      " --  --  --  --  --  --  --  -- ('lforearm_g', 'node')\n",
      " --  --  --  --  --  --  --  --  -- ('lhand_g', 'node')\n",
      " --  --  --  --  --  --  --  --  --  -- ('lhand', 'node')\n",
      " --  --  --  --  --  --  --  --  --  -- ('l_finger0', 'node')\n",
      " --  --  --  --  --  --  --  --  --  -- ('shadowbone_lhand', 'trimesh')\n",
      " --  --  --  --  --  --  --  --  -- ('FX03', 'node')\n",
      " --  --  --  --  --  --  --  --  -- ('lforearm', 'node')\n",
      " --  --  --  --  --  --  --  --  -- ('shadowbone_lforearm', 'trimesh')\n",
      " --  --  --  --  --  --  --  -- ('FX01', 'node')\n",
      " --  --  --  --  --  --  --  -- ('shadowbone_lbicep', 'trimesh')\n",
      " --  --  --  --  --  --  -- ('shadowbone_torsoasdads', 'trimesh')\n",
      " --  --  --  --  --  -- ('rshoulder_g', 'node')\n",
      " --  --  --  --  --  --  -- ('rbicep_g', 'node')\n",
      " --  --  --  --  --  --  --  -- ('rforearm_g', 'node')\n",
      " --  --  --  --  --  --  --  --  -- ('rhand_g', 'node')\n",
      " --  --  --  --  --  --  --  --  --  -- ('rhand', 'node')\n",
      " --  --  --  --  --  --  --  --  --  -- ('r_finger0', 'node')\n",
      " --  --  --  --  --  --  --  --  --  -- ('shadowbone_rhand', 'trimesh')\n",
      " --  --  --  --  --  --  --  --  -- ('FX04', 'node')\n",
      " --  --  --  --  --  --  --  --  -- ('shadowbone_rforearm', 'trimesh')\n",
      " --  --  --  --  --  --  --  -- ('FX02', 'node')\n",
      " --  --  --  --  --  --  --  -- ('shadowbone_rbicep', 'trimesh')\n",
      " --  --  --  --  --  --  -- ('shadowbone_torsoasdasd', 'trimesh')\n",
      " --  --  --  --  --  -- ('impactC', 'node')\n",
      " --  --  --  --  --  -- ('shadowbone_neck', 'trimesh')\n",
      " --  --  --  --  -- ('FX00', 'node')\n",
      " --  --  --  --  -- ('shadowbone_torso2121', 'trimesh')\n",
      " --  --  --  -- ('impact', 'node')\n",
      " --  --  --  -- ('shadowbone_torso4545', 'trimesh')\n",
      " --  --  -- ('lthigh_g', 'node')\n",
      " --  --  --  -- ('lshin_g', 'node')\n",
      " --  --  --  --  -- ('lfoot_g', 'node')\n",
      " --  --  --  --  --  -- ('ltoe', 'node')\n",
      " --  --  --  --  --  -- ('shadowbone_lfoot', 'trimesh')\n",
      " --  --  --  --  -- ('FX09', 'node')\n",
      " --  --  --  --  -- ('shadowbone_lshin', 'trimesh')\n",
      " --  --  --  -- ('FX06', 'node')\n",
      " --  --  --  -- ('shadowbone_lthigh', 'trimesh')\n",
      " --  --  -- ('rthigh_g', 'node')\n",
      " --  --  --  -- ('rshin_g', 'node')\n",
      " --  --  --  --  -- ('rfoot_g', 'node')\n",
      " --  --  --  --  --  -- ('rtoe', 'node')\n",
      " --  --  --  --  --  -- ('shadowbone_rfoot', 'trimesh')\n",
      " --  --  --  --  -- ('FX08', 'node')\n",
      " --  --  --  --  -- ('shadowbone_rshin', 'trimesh')\n",
      " --  --  --  -- ('FX07', 'node')\n",
      " --  --  --  -- ('shadowbone_rthigh', 'trimesh')\n",
      " --  --  -- ('Dummy01', 'node')\n",
      " --  --  --  -- ('dyn00', 'dangly_node')\n",
      " --  --  --  --  -- ('dyn01', 'dangly_node')\n",
      " --  --  -- ('shadowbone_pelvis', 'trimesh')\n",
      " --  -- ('belt_g', 'node')\n",
      " -- ('handconjure', 'node')\n",
      " -- ('ORIGIN', 'node')\n",
      " -- ('headconjure', 'node')\n",
      " -- ('default0200037', 'skin')\n"
     ]
    }
   ],
   "source": [
    "# which nodes?\n",
    "pretty_print(node_tree('cm_drown1'))"
   ]
  },
  {
   "cell_type": "code",
   "execution_count": 19,
   "id": "87a4a4e9-bd29-4666-a4f1-385288afda72",
   "metadata": {},
   "outputs": [
    {
     "data": {
      "image/png": "[encoded data removed]",
      "text/plain": [
       "<Figure size 640x480 with 1 Axes>"
      ]
     },
     "metadata": {},
     "output_type": "display_data"
    }
   ],
   "source": [
    "# draw\n",
    "draw('cm_drown1', 'xz', lambda nd: nd.node_type == Mdb.NodeType.skin)"
   ]
  },
  {
   "cell_type": "code",
   "execution_count": 23,
   "id": "690a2033-55a8-42a6-b54f-cf2c357a522b",
   "metadata": {},
   "outputs": [],
   "source": [
    "drown_anim = mba('cs_drown')"
   ]
  },
  {
   "cell_type": "code",
   "execution_count": 25,
   "id": "816e15c8-1c29-4580-8b07-e199befee02f",
   "metadata": {},
   "outputs": [],
   "source": [
    "first_anim = drown_anim.animations.animation_array_pointer.data[0]"
   ]
  },
  {
   "cell_type": "code",
   "execution_count": 27,
   "id": "0acb6785-d681-4dd5-987d-4c21a45650bb",
   "metadata": {},
   "outputs": [
    {
     "data": {
      "text/plain": [
       "'cs_drown_lkback'"
      ]
     },
     "execution_count": 27,
     "metadata": {},
     "output_type": "execute_result"
    }
   ],
   "source": [
    "first_anim.data.animation_name.string"
   ]
  },
  {
   "cell_type": "code",
   "execution_count": 29,
   "id": "b2fe5809-a73e-4d9a-ad9d-f8fc2c60ed9f",
   "metadata": {},
   "outputs": [
    {
     "data": {
      "text/plain": [
       "'cs_drown'"
      ]
     },
     "execution_count": 29,
     "metadata": {},
     "output_type": "execute_result"
    }
   ],
   "source": [
    "first_anim.data.root_animation_node.data.name.string"
   ]
  }
 ],
 "metadata": {
  "kernelspec": {
   "display_name": "Python 3 (ipykernel)",
   "language": "python",
   "name": "python3"
  },
  "language_info": {
   "codemirror_mode": {
    "name": "ipython",
    "version": 3
   },
   "file_extension": ".py",
   "mimetype": "text/x-python",
   "name": "python",
   "nbconvert_exporter": "python",
   "pygments_lexer": "ipython3",
   "version": "3.7.1"
  }
 },
 "nbformat": 4,
 "nbformat_minor": 5
}
