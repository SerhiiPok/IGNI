{
 "cells": [
  {
   "cell_type": "code",
   "execution_count": 1,
   "id": "eb8eb716-0977-44f5-bf59-8fa47a58810a",
   "metadata": {},
   "outputs": [],
   "source": [
    "from igni import resources"
   ]
  },
  {
   "cell_type": "code",
   "execution_count": 2,
   "id": "d9317fb7-9d81-4e4d-8023-b35591a6d435",
   "metadata": {},
   "outputs": [],
   "source": [
    "resource_manager = resources.ResourceManager('E://projects//the_witcher/content_pipeline/unbiffed/')"
   ]
  },
  {
   "cell_type": "code",
   "execution_count": 3,
   "id": "76db0bd0-05c6-4d08-9131-269f677c20b3",
   "metadata": {},
   "outputs": [],
   "source": [
    "all_mdbs = resource_manager.get_all_of_type(resources.ResourceTypes.MDB)\n",
    "all_mdbts = resource_manager.get_all_of_type(resources.ResourceTypes.MDBT)\n",
    "all_mbas = resource_manager.get_all_of_type(resources.ResourceTypes.MBA)"
   ]
  },
  {
   "cell_type": "code",
   "execution_count": 17,
   "id": "36507b09-bf55-4604-bf07-3a63806ff57e",
   "metadata": {},
   "outputs": [
    {
     "name": "stdout",
     "output_type": "stream",
     "text": [
      "90 per cent of models are repesented by groups: ['door', 'ob', 'fx', 'it', 'cm', 'pnl', None, 'gui', 'ctl', 'inv', 'cs', 'obj', 'gizmo', 'btn', 'an']\n"
     ]
    },
    {
     "data": {
      "text/plain": [
       "{'door': 872,\n",
       " 'ob': 666,\n",
       " 'fx': 278,\n",
       " 'it': 272,\n",
       " 'cm': 166,\n",
       " 'pnl': 76,\n",
       " None: 74,\n",
       " 'gui': 74,\n",
       " 'ctl': 65,\n",
       " 'inv': 52,\n",
       " 'cs': 37,\n",
       " 'obj': 30,\n",
       " 'gizmo': 24,\n",
       " 'btn': 22,\n",
       " 'an': 21,\n",
       " 'vwp': 20,\n",
       " 'trawa': 15,\n",
       " 'red': 13,\n",
       " 'fb4': 12,\n",
       " 'fb3': 11,\n",
       " 'skaybox': 11,\n",
       " 'slot': 10,\n",
       " 'nfo': 10,\n",
       " 'fb5': 10,\n",
       " 'men': 9,\n",
       " 'gi': 9,\n",
       " 'sta': 9,\n",
       " 'fb2': 8,\n",
       " 'sek': 8,\n",
       " 'npnl': 7,\n",
       " 'lifebar': 7,\n",
       " 'pb': 7,\n",
       " 'fb': 7,\n",
       " 'wsp': 6,\n",
       " 'ico': 6,\n",
       " 'eli': 5,\n",
       " 'mg': 5,\n",
       " 'grn': 5,\n",
       " 'wht': 4,\n",
       " 'fb6': 4,\n",
       " 'tlo': 4,\n",
       " 'fb1': 4,\n",
       " 'cs0': 3,\n",
       " 'mgp': 3,\n",
       " 'med': 3,\n",
       " 'cs2': 3,\n",
       " 'vim': 3,\n",
       " 'cut': 2,\n",
       " 'kos': 2,\n",
       " 'exp': 2,\n",
       " 'menufiz2': 2,\n",
       " 'club': 2,\n",
       " 'grass': 2,\n",
       " 'menufiz': 2,\n",
       " 'rmb-lmb': 2,\n",
       " 'flash': 2,\n",
       " '': 1,\n",
       " 'but': 1,\n",
       " 'edit': 1,\n",
       " 'lmb': 1,\n",
       " 'stats': 1,\n",
       " 'sila2': 1,\n",
       " 'iti': 1,\n",
       " 'battleaxe': 1,\n",
       " 'l08': 1,\n",
       " 'rmb': 1,\n",
       " 'action': 1,\n",
       " 'spawn': 1,\n",
       " 'g04': 1,\n",
       " 'dof': 1,\n",
       " 'sound': 1,\n",
       " 'scrollbar': 1,\n",
       " 'cio': 1,\n",
       " 'start': 1,\n",
       " 'var': 1,\n",
       " 'vco': 1,\n",
       " 't': 1,\n",
       " 'world': 1,\n",
       " 'alpha': 1,\n",
       " 'cutscene': 1,\n",
       " 'a': 1,\n",
       " 'gidy': 1,\n",
       " 'sol': 1,\n",
       " 'trigger': 1,\n",
       " 'shield': 1,\n",
       " 'g05': 1,\n",
       " 'microphone': 1,\n",
       " 'kru': 1,\n",
       " 'panel': 1,\n",
       " 'load': 1,\n",
       " 'wfx': 1,\n",
       " 'vff': 1,\n",
       " 'wpn': 1,\n",
       " 'sila': 1}"
      ]
     },
     "execution_count": 17,
     "metadata": {},
     "output_type": "execute_result"
    }
   ],
   "source": [
    "prefixes = set([resource.file.name_prefix for resource in all_mdbs])\n",
    "prefix_stats = {prefix:len([res for res in all_mdbs if res.file.name_prefix == prefix]) for prefix in prefixes}\n",
    "prefix_stats_sorted = {a[0]: a[1] for a in sorted([(key,item) for key, item in prefix_stats.items()], key=lambda key_item: -key_item[1])}\n",
    "\n",
    "total_mdbs = len(all_mdbs)\n",
    "cumsum = 0\n",
    "biggest_n = []\n",
    "for key, val in prefix_stats_sorted.items():\n",
    "    cumsum += val\n",
    "    biggest_n.append(key)\n",
    "    if cumsum*1.0/total_mdbs > 0.9:\n",
    "        print('90 per cent of models are repesented by groups: {}'.format(biggest_n))\n",
    "        break\n",
    "        \n",
    "prefix_stats_sorted"
   ]
  },
  {
   "cell_type": "code",
   "execution_count": 3,
   "id": "aefad112-cd4d-4bb1-b7eb-fab31ac9d23a",
   "metadata": {},
   "outputs": [
    {
     "data": {
      "text/plain": [
       "56"
      ]
     },
     "execution_count": 3,
     "metadata": {},
     "output_type": "execute_result"
    }
   ],
   "source": [
    "import sys\n",
    "sys.getsizeof(resource_manager)"
   ]
  },
  {
   "cell_type": "code",
   "execution_count": 4,
   "id": "0499c558-045e-44c5-8a54-c3e496092186",
   "metadata": {},
   "outputs": [
    {
     "data": {
      "text/plain": [
       "False"
      ]
     },
     "execution_count": 4,
     "metadata": {},
     "output_type": "execute_result"
    }
   ],
   "source": [
    "resource_manager is None"
   ]
  },
  {
   "cell_type": "code",
   "execution_count": null,
   "id": "fa8465b5-9ed0-4935-b020-a0b3c04f442c",
   "metadata": {},
   "outputs": [],
   "source": []
  }
 ],
 "metadata": {
  "kernelspec": {
   "display_name": "Python 3 (ipykernel)",
   "language": "python",
   "name": "python3"
  },
  "language_info": {
   "codemirror_mode": {
    "name": "ipython",
    "version": 3
   },
   "file_extension": ".py",
   "mimetype": "text/x-python",
   "name": "python",
   "nbconvert_exporter": "python",
   "pygments_lexer": "ipython3",
   "version": "3.7.1"
  }
 },
 "nbformat": 4,
 "nbformat_minor": 5
}
