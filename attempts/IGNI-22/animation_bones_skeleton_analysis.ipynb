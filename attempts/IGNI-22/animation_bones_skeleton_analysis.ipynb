{
 "cells": [
  {
   "cell_type": "code",
   "execution_count": 1,
   "id": "e71ee4de-278a-48d5-8323-5f8a3db7de54",
   "metadata": {},
   "outputs": [],
   "source": [
    "from igni import mdbutil\n",
    "from igni.resources import ResourceManager, ResourceTypes"
   ]
  },
  {
   "cell_type": "code",
   "execution_count": 2,
   "id": "49b9697a-a825-4ab9-957a-a496a5480ae8",
   "metadata": {},
   "outputs": [],
   "source": [
    "resource_manager = ResourceManager('E:\\\\projects\\\\the_witcher\\\\content_pipeline\\\\unbiffed')\n",
    "mdb_resources = resource_manager.get_all_of_type(ResourceTypes.MDB)\n",
    "mba_resources = resource_manager.get_all_of_type(ResourceTypes.MBA)"
   ]
  },
  {
   "cell_type": "code",
   "execution_count": 3,
   "id": "ce925e52-6803-4110-b54f-7f607ce8b69a",
   "metadata": {},
   "outputs": [],
   "source": [
    "# get model and animations\n",
    "drown_mdb = [resource for resource in mdb_resources if 'drown' in resource.file.name][0]\n",
    "drown_mba = [resource for resource in mba_resources if 'drown' in resource.file.name][0]"
   ]
  },
  {
   "cell_type": "code",
   "execution_count": 4,
   "id": "9f0e9e85-1357-47c6-9e86-6ddcc69794b3",
   "metadata": {},
   "outputs": [
    {
     "data": {
      "text/plain": [
       "['pelvis_g',\n",
       " 'torso_g',\n",
       " 'torso2_g',\n",
       " 'head_g',\n",
       " 'lshoulder_g',\n",
       " 'lbicep_g',\n",
       " 'lforearm_g',\n",
       " 'lhand_g',\n",
       " 'rshoulder_g',\n",
       " 'rbicep_g',\n",
       " 'rforearm_g',\n",
       " 'rhand_g',\n",
       " 'lthigh_g',\n",
       " 'lshin_g',\n",
       " 'lfoot_g',\n",
       " 'rthigh_g',\n",
       " 'rshin_g',\n",
       " 'rfoot_g',\n",
       " 'l_finger0',\n",
       " 'r_finger0',\n",
       " 'mouth_g',\n",
       " 'wlos',\n",
       " 'dyn00',\n",
       " 'dyn01']"
      ]
     },
     "execution_count": 4,
     "metadata": {},
     "output_type": "execute_result"
    }
   ],
   "source": [
    "# get bones\n",
    "mdb_wrapper = mdbutil.MdbWrapper(drown_mdb.resource)\n",
    "bones = [bone.bone_name.string for bone in [node for node in mdb_wrapper.nodes if node.node_type.name == 'skin'][0].node_data.bones.data]\n",
    "bones"
   ]
  },
  {
   "cell_type": "code",
   "execution_count": 5,
   "id": "305ed2d5-6d16-4a82-9b5d-540428c47897",
   "metadata": {},
   "outputs": [
    {
     "name": "stdout",
     "output_type": "stream",
     "text": [
      "('cm_drown1', 'node', False)\n",
      "-- ('rootdummy', 'node', False)\n",
      "-- -- ('pelvis_g', 'node', True)\n",
      "-- -- -- ('torso_g', 'node', True)\n",
      "-- -- -- -- ('torso2_g', 'node', True)\n",
      "-- -- -- -- -- ('neck_g', 'node', False)\n",
      "-- -- -- -- -- -- ('head_g', 'node', True)\n",
      "-- -- -- -- -- -- -- ('head', 'node', False)\n",
      "-- -- -- -- -- -- -- ('FX05', 'node', False)\n",
      "-- -- -- -- -- -- -- ('Dummy02', 'node', False)\n",
      "-- -- -- -- -- -- -- -- ('wlos', 'dangly_node', True)\n",
      "-- -- -- -- -- -- -- ('FX_okoL', 'node', False)\n",
      "-- -- -- -- -- -- -- ('mouth_g', 'node', True)\n",
      "-- -- -- -- -- -- -- -- ('rootdummy_ponytail1nub', 'node', False)\n",
      "-- -- -- -- -- -- -- -- ('FX_slina00', 'node', False)\n",
      "-- -- -- -- -- -- -- -- ('FX_slina02', 'node', False)\n",
      "-- -- -- -- -- -- -- -- ('FX_slina01', 'node', False)\n",
      "-- -- -- -- -- -- -- ('impactG', 'node', False)\n",
      "-- -- -- -- -- -- -- ('FX_okoR', 'node', False)\n",
      "-- -- -- -- -- -- -- ('shadowbone_head', 'trimesh', False)\n",
      "-- -- -- -- -- -- ('lshoulder_g', 'node', True)\n",
      "-- -- -- -- -- -- -- ('lbicep_g', 'node', True)\n",
      "-- -- -- -- -- -- -- -- ('lforearm_g', 'node', True)\n",
      "-- -- -- -- -- -- -- -- -- ('lhand_g', 'node', True)\n",
      "-- -- -- -- -- -- -- -- -- -- ('lhand', 'node', False)\n",
      "-- -- -- -- -- -- -- -- -- -- ('l_finger0', 'node', True)\n",
      "-- -- -- -- -- -- -- -- -- -- ('shadowbone_lhand', 'trimesh', False)\n",
      "-- -- -- -- -- -- -- -- -- ('FX03', 'node', False)\n",
      "-- -- -- -- -- -- -- -- -- ('lforearm', 'node', False)\n",
      "-- -- -- -- -- -- -- -- -- ('shadowbone_lforearm', 'trimesh', False)\n",
      "-- -- -- -- -- -- -- -- ('FX01', 'node', False)\n",
      "-- -- -- -- -- -- -- -- ('shadowbone_lbicep', 'trimesh', False)\n",
      "-- -- -- -- -- -- -- ('shadowbone_torsoasdads', 'trimesh', False)\n",
      "-- -- -- -- -- -- ('rshoulder_g', 'node', True)\n",
      "-- -- -- -- -- -- -- ('rbicep_g', 'node', True)\n",
      "-- -- -- -- -- -- -- -- ('rforearm_g', 'node', True)\n",
      "-- -- -- -- -- -- -- -- -- ('rhand_g', 'node', True)\n",
      "-- -- -- -- -- -- -- -- -- -- ('rhand', 'node', False)\n",
      "-- -- -- -- -- -- -- -- -- -- ('r_finger0', 'node', True)\n",
      "-- -- -- -- -- -- -- -- -- -- ('shadowbone_rhand', 'trimesh', False)\n",
      "-- -- -- -- -- -- -- -- -- ('FX04', 'node', False)\n",
      "-- -- -- -- -- -- -- -- -- ('shadowbone_rforearm', 'trimesh', False)\n",
      "-- -- -- -- -- -- -- -- ('FX02', 'node', False)\n",
      "-- -- -- -- -- -- -- -- ('shadowbone_rbicep', 'trimesh', False)\n",
      "-- -- -- -- -- -- -- ('shadowbone_torsoasdasd', 'trimesh', False)\n",
      "-- -- -- -- -- -- ('impactC', 'node', False)\n",
      "-- -- -- -- -- -- ('shadowbone_neck', 'trimesh', False)\n",
      "-- -- -- -- -- ('FX00', 'node', False)\n",
      "-- -- -- -- -- ('shadowbone_torso2121', 'trimesh', False)\n",
      "-- -- -- -- ('impact', 'node', False)\n",
      "-- -- -- -- ('shadowbone_torso4545', 'trimesh', False)\n",
      "-- -- -- ('lthigh_g', 'node', True)\n",
      "-- -- -- -- ('lshin_g', 'node', True)\n",
      "-- -- -- -- -- ('lfoot_g', 'node', True)\n",
      "-- -- -- -- -- -- ('ltoe', 'node', False)\n",
      "-- -- -- -- -- -- ('shadowbone_lfoot', 'trimesh', False)\n",
      "-- -- -- -- -- ('FX09', 'node', False)\n",
      "-- -- -- -- -- ('shadowbone_lshin', 'trimesh', False)\n",
      "-- -- -- -- ('FX06', 'node', False)\n",
      "-- -- -- -- ('shadowbone_lthigh', 'trimesh', False)\n",
      "-- -- -- ('rthigh_g', 'node', True)\n",
      "-- -- -- -- ('rshin_g', 'node', True)\n",
      "-- -- -- -- -- ('rfoot_g', 'node', True)\n",
      "-- -- -- -- -- -- ('rtoe', 'node', False)\n",
      "-- -- -- -- -- -- ('shadowbone_rfoot', 'trimesh', False)\n",
      "-- -- -- -- -- ('FX08', 'node', False)\n",
      "-- -- -- -- -- ('shadowbone_rshin', 'trimesh', False)\n",
      "-- -- -- -- ('FX07', 'node', False)\n",
      "-- -- -- -- ('shadowbone_rthigh', 'trimesh', False)\n",
      "-- -- -- ('Dummy01', 'node', False)\n",
      "-- -- -- -- ('dyn00', 'dangly_node', True)\n",
      "-- -- -- -- -- ('dyn01', 'dangly_node', True)\n",
      "-- -- -- ('shadowbone_pelvis', 'trimesh', False)\n",
      "-- -- ('belt_g', 'node', False)\n",
      "-- ('handconjure', 'node', False)\n",
      "-- ('ORIGIN', 'node', False)\n",
      "-- ('headconjure', 'node', False)\n",
      "-- ('default0200037', 'skin', False)\n"
     ]
    }
   ],
   "source": [
    "mdbutil.print_node_tree(drown_mdb.resource.root_node, lambda nd: str((nd.node_name.string, nd.node_type.name, nd.node_name.string in bones)))"
   ]
  },
  {
   "cell_type": "code",
   "execution_count": 8,
   "id": "65ad8650-da07-4760-8ca5-a28b8bada8e9",
   "metadata": {},
   "outputs": [
    {
     "name": "stdout",
     "output_type": "stream",
     "text": [
      "cs_drown\n",
      "-- rootdummy\n",
      "-- -- pelvis_g\n",
      "-- -- -- torso_g\n",
      "-- -- -- -- torso2_g\n",
      "-- -- -- -- -- neck_g\n",
      "-- -- -- -- -- -- head_g\n",
      "-- -- -- -- -- -- -- head\n",
      "-- -- -- -- -- -- -- FX05\n",
      "-- -- -- -- -- -- -- mouth_g\n",
      "-- -- -- -- -- -- -- -- rootdummy_ponytail1nub\n",
      "-- -- -- -- -- -- -- -- FX_slina00\n",
      "-- -- -- -- -- -- -- -- FX_slina01\n",
      "-- -- -- -- -- -- -- -- FX_slina02\n",
      "-- -- -- -- -- -- -- impactG\n",
      "-- -- -- -- -- -- -- FX_okoL\n",
      "-- -- -- -- -- -- -- FX_okoR\n",
      "-- -- -- -- -- -- lshoulder_g\n",
      "-- -- -- -- -- -- -- lbicep_g\n",
      "-- -- -- -- -- -- -- -- lforearm_g\n",
      "-- -- -- -- -- -- -- -- -- lhand_g\n",
      "-- -- -- -- -- -- -- -- -- -- lhand\n",
      "-- -- -- -- -- -- -- -- -- -- l_finger0\n",
      "-- -- -- -- -- -- -- -- -- FX03\n",
      "-- -- -- -- -- -- -- -- -- lforearm\n",
      "-- -- -- -- -- -- -- -- FX01\n",
      "-- -- -- -- -- -- rshoulder_g\n",
      "-- -- -- -- -- -- -- rbicep_g\n",
      "-- -- -- -- -- -- -- -- rforearm_g\n",
      "-- -- -- -- -- -- -- -- -- rhand_g\n",
      "-- -- -- -- -- -- -- -- -- -- rhand\n",
      "-- -- -- -- -- -- -- -- -- -- r_finger0\n",
      "-- -- -- -- -- -- -- -- -- FX04\n",
      "-- -- -- -- -- -- -- -- FX02\n",
      "-- -- -- -- -- -- impactC\n",
      "-- -- -- -- -- FX00\n",
      "-- -- -- -- impact\n",
      "-- -- -- lthigh_g\n",
      "-- -- -- -- lshin_g\n",
      "-- -- -- -- -- lfoot_g\n",
      "-- -- -- -- -- -- ltoe\n",
      "-- -- -- -- -- FX09\n",
      "-- -- -- -- FX06\n",
      "-- -- -- rthigh_g\n",
      "-- -- -- -- rshin_g\n",
      "-- -- -- -- -- rfoot_g\n",
      "-- -- -- -- -- -- rtoe\n",
      "-- -- -- -- -- FX08\n",
      "-- -- -- -- FX07\n",
      "-- -- belt_g\n",
      "-- headconjure\n",
      "-- handconjure\n",
      "-- ORIGIN\n"
     ]
    }
   ],
   "source": [
    "mdbutil.print_node_tree(drown_mba.resource.animations.animation_array_pointer.data[0].data.root_animation_node.data, lambda nd: nd.name.string)"
   ]
  },
  {
   "cell_type": "code",
   "execution_count": null,
   "id": "8baba7a4-69e5-40f8-bb99-6f8eeb906270",
   "metadata": {},
   "outputs": [],
   "source": []
  }
 ],
 "metadata": {
  "kernelspec": {
   "display_name": "Python 3 (ipykernel)",
   "language": "python",
   "name": "python3"
  },
  "language_info": {
   "codemirror_mode": {
    "name": "ipython",
    "version": 3
   },
   "file_extension": ".py",
   "mimetype": "text/x-python",
   "name": "python",
   "nbconvert_exporter": "python",
   "pygments_lexer": "ipython3",
   "version": "3.7.1"
  }
 },
 "nbformat": 4,
 "nbformat_minor": 5
}
