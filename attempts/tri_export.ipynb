{
 "cells": [
  {
   "cell_type": "code",
   "execution_count": 1,
   "id": "bc7d63a9-ec6d-40ce-a003-33c5b8942dc7",
   "metadata": {},
   "outputs": [],
   "source": [
    "import fbx"
   ]
  },
  {
   "cell_type": "code",
   "execution_count": 30,
   "id": "69149572-8adb-463f-adae-9443fec9a44c",
   "metadata": {},
   "outputs": [
    {
     "name": "stdout",
     "output_type": "stream",
     "text": [
      "checker.jpg\n",
      "exported succesfully\n"
     ]
    }
   ],
   "source": [
    "memory_manager = fbx.FbxManager.Create()\n",
    "scene = fbx.FbxScene.Create(memory_manager, '')\n",
    "\n",
    "mesh_node = fbx.FbxNode.Create(memory_manager, 'tri')\n",
    "scene.GetRootNode().AddChild(mesh_node)\n",
    "\n",
    "# -- mesh\n",
    "mesh_attribute: fbx.FbxMesh = fbx.FbxMesh.Create(memory_manager, '')\n",
    "mesh_node.AddNodeAttribute(mesh_attribute)\n",
    "\n",
    "# -- mesh -- vertices\n",
    "mesh_attribute.InitControlPoints(3)\n",
    "\n",
    "TRI_VERTS = (\n",
    "    (0.0, 0.0, 0.0),\n",
    "    (0.0, 0.0, 100.0),\n",
    "    (0.0, 100.0, 0.0)\n",
    ")\n",
    "\n",
    "for i in range(0,3):\n",
    "    vert = TRI_VERTS[i]\n",
    "    mesh_attribute.SetControlPointAt(fbx.FbxVector4(vert[0], vert[1], vert[2], 0.0), i)\n",
    "    \n",
    "# -- mesh -- the face\n",
    "mesh_attribute.BeginPolygon(0)\n",
    "mesh_attribute.AddPolygon(2)\n",
    "mesh_attribute.AddPolygon(1)\n",
    "mesh_attribute.AddPolygon(0)\n",
    "mesh_attribute.EndPolygon()\n",
    "\n",
    "# -- mesh -- normals\n",
    "        \n",
    "normal_elem: fbx.FbxLayerElementNormal = mesh_attribute.CreateElementNormal()\n",
    "normal_elem.SetMappingMode(fbx.FbxLayerElementNormal.eByPolygon)\n",
    "normal_elem.SetReferenceMode(fbx.FbxLayerElementNormal.eDirect)\n",
    "\n",
    "normal_elem.GetDirectArray().Add(fbx.FbxVector4(1.0, 0.0, 0.0))\n",
    "\n",
    "if mesh_attribute.GetLayer(0) is None:\n",
    "    mesh_attribute.CreateLayer()\n",
    "layer: fbx.FbxLayer = mesh_attribute.GetLayer(0)\n",
    "\n",
    "layer.SetNormals(normal_elem)\n",
    "\n",
    "# -- uvs\n",
    "\n",
    "uv_element: fbx.FbxLayerElementUV = mesh_attribute.CreateElementUV(\"UVSet\")\n",
    "uv_element.SetMappingMode(fbx.FbxLayerElement.eByPolygonVertex)\n",
    "uv_element.SetReferenceMode(fbx.FbxLayerElement.eDirect)\n",
    "\n",
    "uv_element.GetDirectArray().Add(fbx.FbxVector2(0.0, 0.0))\n",
    "uv_element.GetDirectArray().Add(fbx.FbxVector2(1.0, 0.0))\n",
    "uv_element.GetDirectArray().Add(fbx.FbxVector2(0.5, 1.0))\n",
    "\n",
    "# -- material\n",
    "\n",
    "# -- material - material element\n",
    "\n",
    "material_element = mesh_attribute.CreateElementMaterial()\n",
    "material_element.SetMappingMode(fbx.FbxLayerElement.eByPolygon)\n",
    "material_element.SetReferenceMode(fbx.FbxLayerElement.eDirect)\n",
    "\n",
    "# -- material - create material\n",
    "\n",
    "material = fbx.FbxSurfacePhong.Create(memory_manager, 'material')\n",
    "material.Diffuse.Set(fbx.FbxDouble3(1.0, 1.0, 1.0))\n",
    "material.ShadingModel.Set('Phong')\n",
    "mesh_node.AddMaterial(material)\n",
    "\n",
    "# -- material - texture\n",
    "\n",
    "texture = fbx.FbxFileTexture.Create(scene, 'diffuse')\n",
    "texture.SetFileName('checker.jpg')\n",
    "texture.SetTextureUse(fbx.FbxTexture.eStandard)\n",
    "texture.SetMappingType(fbx.FbxTexture.eUV)\n",
    "texture.SetMaterialUse(fbx.FbxFileTexture.eModelMaterial)\n",
    "texture.SetSwapUV(False)\n",
    "texture.SetTranslation(0.0, 0.0)\n",
    "texture.SetScale(1.0, 1.0)\n",
    "texture.SetRotation(0.0, 0.0)\n",
    "\n",
    "material.Diffuse.ConnectSrcObject(texture)\n",
    "\n",
    "print(material.Diffuse.GetSrcObject().GetFileName())\n",
    "\n",
    "mesh_node.SetShadingMode(fbx.FbxNode.eTextureShading)\n",
    "\n",
    "# EXPORT\n",
    "\n",
    "exporter = fbx.FbxExporter.Create(memory_manager, '')\n",
    "exporter.Initialize('tri', -1, memory_manager.GetIOSettings())\n",
    "result = exporter.Export(scene)\n",
    "\n",
    "if result:\n",
    "    print('exported succesfully')\n",
    "    \n",
    "memory_manager.Destroy()"
   ]
  },
  {
   "cell_type": "code",
   "execution_count": 17,
   "id": "ab4460fb-7a97-4a06-bd18-9f83a1bbd02f",
   "metadata": {},
   "outputs": [
    {
     "name": "stdout",
     "output_type": "stream",
     "text": [
      "material count: 1\n",
      "has diffuse texture: True\n",
      "diffuse texture name: E:\\projects\\the_witcher\\content_pipeline\\attempts\\checker.jpg\n",
      "tri\n"
     ]
    }
   ],
   "source": [
    "# read proper tri\n",
    "memory_manager = fbx.FbxManager.Create()\n",
    "\n",
    "importer = fbx.FbxImporter.Create(memory_manager, '')\n",
    "importer.Initialize('proper_tri.fbx')\n",
    "\n",
    "scene = fbx.FbxScene.Create(memory_manager, '')\n",
    "importer.Import(scene)\n",
    "\n",
    "tri_node = scene.GetRootNode().GetChild(0)\n",
    "\n",
    "print('material count: {}'.format(tri_node.GetMaterialCount()))\n",
    "print('has diffuse texture: {}'.format(tri_node.GetMaterial(0).Diffuse.GetSrcObject() != None))\n",
    "print('diffuse texture name: {}'.format(tri_node.GetMaterial(0).Diffuse.GetSrcObject().GetFileName()))\n",
    "print(scene.GetRootNode().GetChild(0).GetName())\n",
    "\n",
    "memory_manager.Destroy()"
   ]
  },
  {
   "cell_type": "code",
   "execution_count": 31,
   "id": "3da455a4-41f7-4ce6-9c7a-2d2ab1499397",
   "metadata": {},
   "outputs": [
    {
     "name": "stdout",
     "output_type": "stream",
     "text": [
      "node: tri\n",
      "material count: 1\n",
      "has diffuse texture: True\n",
      "diffuse texture name: checker.jpg\n",
      "tri\n"
     ]
    }
   ],
   "source": [
    "# read improper tri\n",
    "memory_manager = fbx.FbxManager.Create()\n",
    "\n",
    "importer = fbx.FbxImporter.Create(memory_manager, '')\n",
    "importer.Initialize('tri.fbx')\n",
    "\n",
    "scene = fbx.FbxScene.Create(memory_manager, '')\n",
    "importer.Import(scene)\n",
    "\n",
    "tri_node = scene.GetRootNode().GetChild(0)\n",
    "\n",
    "print('node: {}'.format(tri_node.GetName()))\n",
    "print('material count: {}'.format(tri_node.GetMaterialCount()))\n",
    "print('has diffuse texture: {}'.format(tri_node.GetMaterial(0).Diffuse.GetSrcObject() != None))\n",
    "print('diffuse texture name: {}'.format(tri_node.GetMaterial(0).Diffuse.GetSrcObject().GetFileName()))\n",
    "print(scene.GetRootNode().GetChild(0).GetName())\n",
    "\n",
    "memory_manager.Destroy()"
   ]
  },
  {
   "cell_type": "code",
   "execution_count": null,
   "id": "616740c6-9f9b-4841-a552-378b5c7ffbeb",
   "metadata": {},
   "outputs": [],
   "source": []
  }
 ],
 "metadata": {
  "kernelspec": {
   "display_name": "Python 3 (ipykernel)",
   "language": "python",
   "name": "python3"
  },
  "language_info": {
   "codemirror_mode": {
    "name": "ipython",
    "version": 3
   },
   "file_extension": ".py",
   "mimetype": "text/x-python",
   "name": "python",
   "nbconvert_exporter": "python",
   "pygments_lexer": "ipython3",
   "version": "3.7.1"
  }
 },
 "nbformat": 4,
 "nbformat_minor": 5
}
