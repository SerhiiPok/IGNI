{
 "cells": [
  {
   "cell_type": "code",
   "execution_count": 2,
   "id": "bc7d63a9-ec6d-40ce-a003-33c5b8942dc7",
   "metadata": {},
   "outputs": [],
   "source": [
    "import fbx"
   ]
  },
  {
   "cell_type": "code",
   "execution_count": 8,
   "id": "69149572-8adb-463f-adae-9443fec9a44c",
   "metadata": {},
   "outputs": [
    {
     "name": "stdout",
     "output_type": "stream",
     "text": [
      "exported succesfully\n"
     ]
    }
   ],
   "source": [
    "memory_manager = fbx.FbxManager.Create()\n",
    "scene = fbx.FbxScene.Create(memory_manager, '')\n",
    "\n",
    "mesh_node = fbx.FbxNode.Create(memory_manager, 'tri')\n",
    "scene.GetRootNode().AddChild(mesh_node)\n",
    "\n",
    "# -- mesh\n",
    "mesh_attribute: fbx.FbxMesh = fbx.FbxMesh.Create(memory_manager, '')\n",
    "mesh_node.AddNodeAttribute(mesh_attribute)\n",
    "\n",
    "# -- mesh -- vertices\n",
    "mesh_attribute.InitControlPoints(3)\n",
    "\n",
    "TRI_VERTS = (\n",
    "    (0.0, 0.0, 0.0),\n",
    "    (0.0, 0.0, 100.0),\n",
    "    (0.0, 100.0, 0.0)\n",
    ")\n",
    "\n",
    "for i in range(0,3):\n",
    "    vert = TRI_VERTS[i]\n",
    "    mesh_attribute.SetControlPointAt(fbx.FbxVector4(vert[0], vert[1], vert[2], 0.0), i)\n",
    "    \n",
    "# -- mesh -- the face\n",
    "mesh_attribute.BeginPolygon()\n",
    "mesh_attribute.AddPolygon(2)\n",
    "mesh_attribute.AddPolygon(1)\n",
    "mesh_attribute.AddPolygon(0)\n",
    "mesh_attribute.EndPolygon()\n",
    "\n",
    "# -- mesh -- normals\n",
    "        \n",
    "normal_elem: fbx.FbxLayerElementNormal = mesh_attribute.CreateElementNormal()\n",
    "normal_elem.SetMappingMode(fbx.FbxLayerElementNormal.eByPolygon)\n",
    "normal_elem.SetReferenceMode(fbx.FbxLayerElementNormal.eDirect)\n",
    "\n",
    "normal_elem.GetDirectArray().Add(fbx.FbxVector4(1.0, 0.0, 0.0))\n",
    "\n",
    "if mesh_attribute.GetLayer(0) is None:\n",
    "    mesh_attribute.CreateLayer()\n",
    "layer: fbx.FbxLayer = mesh_attribute.GetLayer(0)\n",
    "\n",
    "layer.SetNormals(normal_elem)\n",
    "\n",
    "# EXPORT\n",
    "\n",
    "exporter = fbx.FbxExporter.Create(memory_manager, '')\n",
    "exporter.Initialize('tri', -1, memory_manager.GetIOSettings())\n",
    "result = exporter.Export(scene)\n",
    "\n",
    "if result:\n",
    "    print('exported succesfully')\n",
    "    \n",
    "memory_manager.Destroy()"
   ]
  },
  {
   "cell_type": "code",
   "execution_count": null,
   "id": "ab4460fb-7a97-4a06-bd18-9f83a1bbd02f",
   "metadata": {},
   "outputs": [],
   "source": []
  }
 ],
 "metadata": {
  "kernelspec": {
   "display_name": "Python 3 (ipykernel)",
   "language": "python",
   "name": "python3"
  },
  "language_info": {
   "codemirror_mode": {
    "name": "ipython",
    "version": 3
   },
   "file_extension": ".py",
   "mimetype": "text/x-python",
   "name": "python",
   "nbconvert_exporter": "python",
   "pygments_lexer": "ipython3",
   "version": "3.7.1"
  }
 },
 "nbformat": 4,
 "nbformat_minor": 5
}
