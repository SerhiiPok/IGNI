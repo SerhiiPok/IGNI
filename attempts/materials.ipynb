{
 "cells": [
  {
   "cell_type": "code",
   "execution_count": 1,
   "id": "84f5209c-c78f-4f49-b4d3-6088da328b85",
   "metadata": {},
   "outputs": [],
   "source": [
    "import importlib\n",
    "from igni.resources import ResourceManager, ResourceTypes\n",
    "from igni.mdb2fbx import Material"
   ]
  },
  {
   "cell_type": "code",
   "execution_count": 2,
   "id": "2817ba44-c6a8-43c3-ba38-31292cf24b89",
   "metadata": {},
   "outputs": [],
   "source": [
    "resource_manager = ResourceManager(\"E:\\\\projects\\\\the_witcher\\\\content_pipeline\\\\unbiffed\")\n",
    "all_mdbs = resource_manager.get_all_of_type(ResourceTypes.MDB)"
   ]
  },
  {
   "cell_type": "code",
   "execution_count": 3,
   "id": "d5e269b9-602a-4367-93ec-467958bdd2bd",
   "metadata": {},
   "outputs": [
    {
     "data": {
      "text/plain": [
       "3026"
      ]
     },
     "execution_count": 3,
     "metadata": {},
     "output_type": "execute_result"
    }
   ],
   "source": [
    "len(all_mdbs)"
   ]
  },
  {
   "cell_type": "code",
   "execution_count": 4,
   "id": "913ae542-17f2-48be-9c41-4aedfefca7c1",
   "metadata": {},
   "outputs": [],
   "source": [
    "def well_shaped_mat_spec(raw_mat_spec):\n",
    "    out = []\n",
    "    for line in raw_mat_spec:\n",
    "        l = line\n",
    "        l = l.replace('\\\\r\\\\n', '')\n",
    "        l = l.lstrip().rstrip()\n",
    "        out.append(l)\n",
    "    return out\n",
    "        \n",
    "def get_all_materials(mdb):\n",
    "    materials_out = []\n",
    "    def _get_material_recursively_(node, mat_out):\n",
    "        if hasattr(node, 'node_data'):\n",
    "            if hasattr(node.node_data, 'material'):\n",
    "                if len(node.node_data.material.data.material_spec) > 0:\n",
    "                    materials_out.append(Material(node.node_data.material.data))\n",
    "        for node_ in [node_ptr.data for node_ptr in node.children.data]:\n",
    "            _get_material_recursively_(node_, mat_out)\n",
    "    _get_material_recursively_(mdb.root_node, materials_out)\n",
    "    return materials_out\n",
    "\n",
    "all_materials = []\n",
    "for resource in all_mdbs:\n",
    "    all_materials.extend(get_all_materials(resource.get()))"
   ]
  },
  {
   "cell_type": "code",
   "execution_count": 14,
   "id": "4809130c-0ae9-4a5f-ab31-6d058aee5d7a",
   "metadata": {
    "collapsed": true,
    "jupyter": {
     "outputs_hidden": true
    },
    "tags": []
   },
   "outputs": [
    {
     "data": {
      "text/plain": [
       "{'trans_cds_2p': 1,\n",
       " 'interactive_wat': 1,\n",
       " 'norm_medallion': 1,\n",
       " 'spacewarp_quen': 1,\n",
       " 'skin_n_env': 1,\n",
       " 'add_quen_hit': 1,\n",
       " 'skin_n_rim_ao_md': 1,\n",
       " 'envmap_selfil': 1,\n",
       " '_default___': 2,\n",
       " 'normalmap_glow': 2,\n",
       " 'reflection': 2,\n",
       " '_default_gr_geom': 2,\n",
       " 'dblsided_atest': 3,\n",
       " 'additive_alphaz': 3,\n",
       " 'envadd': 3,\n",
       " 'additive': 3,\n",
       " 'spacewarp_difr': 4,\n",
       " 'additive_alpha': 4,\n",
       " 'norm_all_trans': 4,\n",
       " 'envmap_alpha': 4,\n",
       " '_default__b': 4,\n",
       " 'foam': 4,\n",
       " 'alphamask': 5,\n",
       " 'dirty_water_ref': 6,\n",
       " 'envmap_s': 7,\n",
       " 'selfilum_b': 8,\n",
       " 'no_more_snowman': 8,\n",
       " 'plant': 10,\n",
       " 'clouds_weather': 10,\n",
       " 'leaves_singles': 12,\n",
       " 'reflection_b': 14,\n",
       " 'spacewarp_sdifr': 14,\n",
       " 'noalphatest': 14,\n",
       " 'hair': 14,\n",
       " 'swamp_rtref': 15,\n",
       " 'dadd_alpha_mul': 16,\n",
       " 'skin_all_trans': 18,\n",
       " 'skin_n_glow': 18,\n",
       " 'envmap_lm_b_sic': 19,\n",
       " 'clouds': 19,\n",
       " 'texture_blend': 19,\n",
       " 'normalmap_env': 20,\n",
       " 'normalmap_selfil': 24,\n",
       " 'texture_blend_2p': 27,\n",
       " 'skin_n_rim_ao_mh': 34,\n",
       " 'leaves': 36,\n",
       " 'spacewarp_glass': 37,\n",
       " 'transparency_2p': 39,\n",
       " 'caustic': 39,\n",
       " 'leaves_lm_bill': 41,\n",
       " 'envmapping_lm_b': 42,\n",
       " 'water_running': 42,\n",
       " 'leaves_lm': 57,\n",
       " 'transparency_2ps': 64,\n",
       " 'envmapping': 68,\n",
       " 'dadd_al_mul_alp': 69,\n",
       " 'skin_nrimaoenv': 83,\n",
       " 'specular': 96,\n",
       " 'skin_n': 122,\n",
       " 'corona': 166,\n",
       " 'norm_env_rim_l': 175,\n",
       " 'selfilum': 179,\n",
       " 'skin_n_rim_ao': 273,\n",
       " 'norm_env_rim_ao': 291,\n",
       " '_default_door': 730,\n",
       " 'normalmap': 1211}"
      ]
     },
     "execution_count": 14,
     "metadata": {},
     "output_type": "execute_result"
    }
   ],
   "source": [
    "# types of shaders and their frequency\n",
    "shaders = [material.shader for material in all_materials]\n",
    "shader_stats = {shad: len([shader_ for shader_ in shaders if shader_ == shad]) for shad in set(shaders)}\n",
    "{k: v for k, v in sorted(shader_stats.items(), key=lambda item: item[1])}"
   ]
  },
  {
   "cell_type": "code",
   "execution_count": 16,
   "id": "c4670ede-099b-4456-8b8f-54863f9774ec",
   "metadata": {
    "collapsed": true,
    "jupyter": {
     "outputs_hidden": true
    },
    "tags": []
   },
   "outputs": [
    {
     "data": {
      "text/plain": [
       "{'specularShape': 1,\n",
       " 'env_map': 1,\n",
       " 'unique_bump_texture': 1,\n",
       " 'tiled_bump_texture': 1,\n",
       " 'diffuse_texture': 3,\n",
       " 'diffuse_map': 4,\n",
       " 'mainTexture': 5,\n",
       " 'maskTexture': 5,\n",
       " 'main_texture': 6,\n",
       " 'texture_layer0': 8,\n",
       " 'density_texture': 10,\n",
       " 'shiftTexture': 14,\n",
       " 'leaves_texture': 15,\n",
       " 'displacement_texture': 16,\n",
       " 'diff_texture': 20,\n",
       " 'transmissionMap': 22,\n",
       " 'selfIllumMap': 24,\n",
       " 'mask': 39,\n",
       " 'depth_texture': 42,\n",
       " 'foam_texture': 42,\n",
       " 'lightmap': 54,\n",
       " 'bump_texture': 63,\n",
       " 'texture1': 89,\n",
       " 'self_ilum': 180,\n",
       " 'envmap': 779,\n",
       " 'ambOcclMap': 881,\n",
       " 'texture0': 1386,\n",
       " 'tex': 2694}"
      ]
     },
     "execution_count": 16,
     "metadata": {},
     "output_type": "execute_result"
    }
   ],
   "source": [
    "# types of textures\n",
    "textures = [key for material in all_materials for key, val in material.textures.items()]\n",
    "texture_stats = {texture: len([texture_ for texture_ in textures if texture_ == texture]) for texture in set(textures)}\n",
    "{k: v for k, v in sorted(texture_stats.items(), key=lambda item: item[1])}"
   ]
  },
  {
   "cell_type": "code",
   "execution_count": 17,
   "id": "28f1d66f-9160-41aa-b7d6-f3b511776d06",
   "metadata": {
    "tags": []
   },
   "outputs": [
    {
     "data": {
      "text/plain": [
       "{'displacement_texture': 40, 'normalmap': 2292}"
      ]
     },
     "execution_count": 17,
     "metadata": {},
     "output_type": "execute_result"
    }
   ],
   "source": [
    "# types of bumpmaps\n",
    "bumpmaps = [key for material in all_materials for key, val in material.bumpmaps.items()]\n",
    "bumpmap_stats = {bump: len([bump_ for bump_ in bumpmaps if bump_ == bump]) for bump in set(bumpmaps)}\n",
    "{k: v for k, v in sorted(bumpmap_stats.items(), key=lambda item: item[1])}"
   ]
  },
  {
   "cell_type": "code",
   "execution_count": 18,
   "id": "450ecea8-e59f-49dd-bb72-dc50c207b317",
   "metadata": {
    "collapsed": true,
    "jupyter": {
     "outputs_hidden": true
    },
    "tags": []
   },
   "outputs": [
    {
     "data": {
      "text/plain": [
       "{'diffuse_factor': 1,\n",
       " 'wobble_amplitude': 1,\n",
       " 'rotation_speed': 1,\n",
       " 'diffTextureScrollSpeed': 1,\n",
       " 'rotate_speed': 1,\n",
       " 'reflection_factor': 2,\n",
       " 'WaveAmplitude': 4,\n",
       " 'SubWaveAmplitude': 4,\n",
       " 'FoamAmplitude': 4,\n",
       " 'WaveFrequency': 4,\n",
       " 'WaveSpeed': 4,\n",
       " 'envmap_factor': 5,\n",
       " 'specular_color1': 14,\n",
       " 'specular_power1': 14,\n",
       " 'specular_power2': 14,\n",
       " 'primary_shift': 14,\n",
       " 'specular_color2': 14,\n",
       " 'secondary_shift': 14,\n",
       " 'clouds_speed': 19,\n",
       " 'glow_color': 20,\n",
       " 'glow_power_anim_speed': 20,\n",
       " 'glow_power': 20,\n",
       " 'glow_alpha:': 20,\n",
       " 'glow_power_amplitude': 20,\n",
       " 'wave_amplitude': 22,\n",
       " 'subwave_speed': 22,\n",
       " 'transmissionFactor': 22,\n",
       " 'selfIllumStrength': 24,\n",
       " 'day_blended_color_params': 27,\n",
       " 'needs_fresh_spacewarp_texture': 40,\n",
       " 'foam_density': 42,\n",
       " 'bump_scales': 42,\n",
       " 'water_speed': 42,\n",
       " 'specular_params': 42,\n",
       " 'bump_rotspeed': 42,\n",
       " 'foam_speed': 42,\n",
       " 'matrix_scroll_1_speed_v': 49,\n",
       " 'matrix_scroll_1_speed_u': 49,\n",
       " 'matrix_scroll_2_speed_u': 49,\n",
       " 'matrix_scroll_2_speed_v': 49,\n",
       " 'spacewarp_factor': 52,\n",
       " 'bump_density': 64,\n",
       " 'water_color': 64,\n",
       " 'blend_lightmap_params': 73,\n",
       " 'blend_texture_params': 75,\n",
       " 'fresnel_params': 104,\n",
       " 'enable_rim_fading': 169,\n",
       " 'reflectionStrength': 593,\n",
       " 'rim_power': 880,\n",
       " 'rim_intensity': 880}"
      ]
     },
     "execution_count": 18,
     "metadata": {},
     "output_type": "execute_result"
    }
   ],
   "source": [
    "# types of properties\n",
    "props = [key for material in all_materials for key, val in material.properties.items()]\n",
    "prop_stats = {prop: len([prop_ for prop_ in props if prop_ == prop]) for prop in set(props)}\n",
    "{k: v for k, v in sorted(prop_stats.items(), key=lambda item: item[1])}"
   ]
  }
 ],
 "metadata": {
  "kernelspec": {
   "display_name": "Python 3 (ipykernel)",
   "language": "python",
   "name": "python3"
  },
  "language_info": {
   "codemirror_mode": {
    "name": "ipython",
    "version": 3
   },
   "file_extension": ".py",
   "mimetype": "text/x-python",
   "name": "python",
   "nbconvert_exporter": "python",
   "pygments_lexer": "ipython3",
   "version": "3.7.1"
  }
 },
 "nbformat": 4,
 "nbformat_minor": 5
}
